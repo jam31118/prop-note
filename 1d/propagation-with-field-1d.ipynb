{
 "cells": [
  {
   "cell_type": "code",
   "execution_count": 1,
   "metadata": {},
   "outputs": [],
   "source": [
    "import numpy as np\n",
    "\n",
    "import matplotlib.pyplot as plt"
   ]
  },
  {
   "cell_type": "markdown",
   "metadata": {},
   "source": [
    "# Prepare routines\n",
    "\n",
    "- tridiagonal matrix multiplication"
   ]
  },
  {
   "cell_type": "code",
   "execution_count": 2,
   "metadata": {},
   "outputs": [],
   "source": [
    "from tdse.matrix_py import mat_vec_mul_tridiag, gaussian_elimination_tridiagonal\n",
    "\n",
    "def tridiag_forward(tridiag, v, b):\n",
    "    b[:] = mat_vec_mul_tridiag(tridiag[1,:], tridiag[0,1:], tridiag[2,:-1], v)\n",
    "\n",
    "def tridiag_backward(tridiag, v, b):\n",
    "    v[:] = gaussian_elimination_tridiagonal(tridiag[1,:], tridiag[0,1:], tridiag[2,:-1], b)"
   ]
  },
  {
   "cell_type": "markdown",
   "metadata": {},
   "source": [
    "# Parameter\n",
    "\n",
    "- may be replaced by input file read"
   ]
  },
  {
   "cell_type": "code",
   "execution_count": 3,
   "metadata": {},
   "outputs": [],
   "source": [
    "R_in = 50.03\n",
    "delta_x = 0.2\n",
    "imag_pot_width = 30.0\n",
    "delta_t_real = 0.05\n",
    "t_max_in = 10.98\n",
    "t0 = 0.0\n",
    "imag_prop = False\n",
    "\n",
    "V_x_func = lambda x: np.zeros_like(x)\n",
    "# V_x_func = lambda x: - np.exp(-x*x)\n",
    "\n",
    "# omega = np.sqrt(0.002)\n",
    "# V_x_func = lambda x: 0.5 * omega*omega * x*x\n",
    "\n",
    "A_t_func = lambda t: np.zeros_like(t)"
   ]
  },
  {
   "cell_type": "code",
   "execution_count": 4,
   "metadata": {},
   "outputs": [],
   "source": [
    "delta_t = delta_t_real\n",
    "if imag_prop: \n",
    "    delta_t *= (-1.0j)\n",
    "    A_t_func = lambda t: np.zeros_like(t)"
   ]
  },
  {
   "cell_type": "markdown",
   "metadata": {},
   "source": [
    "### Check parameters"
   ]
  },
  {
   "cell_type": "code",
   "execution_count": 5,
   "metadata": {},
   "outputs": [],
   "source": [
    "assert R_in > 0 and delta_x > 0 and imag_pot_width > 0 and delta_t_real > 0"
   ]
  },
  {
   "cell_type": "markdown",
   "metadata": {},
   "source": [
    "# Construct coordinates arrays"
   ]
  },
  {
   "cell_type": "markdown",
   "metadata": {},
   "source": [
    "## spatial array"
   ]
  },
  {
   "cell_type": "code",
   "execution_count": 6,
   "metadata": {},
   "outputs": [],
   "source": [
    "N_x = 2 * int(R_in // delta_x) + 1\n",
    "N_x_width = N_x // 2\n",
    "R = delta_x * N_x_width\n",
    "assert R == (R_in - (R_in % delta_x))  # check consistency\n",
    "x_arr = np.linspace(-R,R,N_x)\n",
    "assert np.isclose(x_arr[1] - x_arr[0],delta_x, atol=1e-14, rtol=0)  # check consistency"
   ]
  },
  {
   "cell_type": "markdown",
   "metadata": {},
   "source": [
    "## temporal array"
   ]
  },
  {
   "cell_type": "code",
   "execution_count": 7,
   "metadata": {},
   "outputs": [],
   "source": [
    "N_timestep = int( (t_max_in - t0 + delta_t_real) // delta_t_real )\n",
    "t_max = t0 + delta_t_real * N_timestep\n",
    "N_timepoint = N_timestep + 1\n",
    "t_arr = np.linspace(t0, t_max, N_timepoint)\n",
    "assert np.isclose(t_arr[1] - t_arr[0], delta_t_real, atol=1e-14, rtol=0)  # check consistency"
   ]
  },
  {
   "cell_type": "markdown",
   "metadata": {},
   "source": [
    "# Construct potential arrays: $V(x)$, $A(t)$"
   ]
  },
  {
   "cell_type": "code",
   "execution_count": 8,
   "metadata": {},
   "outputs": [],
   "source": [
    "V_x_arr = V_x_func(x_arr)"
   ]
  },
  {
   "cell_type": "markdown",
   "metadata": {},
   "source": [
    "# Construct tridiagonals"
   ]
  },
  {
   "cell_type": "markdown",
   "metadata": {},
   "source": [
    "## intermediate matrices"
   ]
  },
  {
   "cell_type": "code",
   "execution_count": 9,
   "metadata": {},
   "outputs": [],
   "source": [
    "tridiag_shape = (3,N_x)\n",
    "\n",
    "M2 = np.empty(tridiag_shape, dtype=float)\n",
    "M2[0,1:], M2[1,:], M2[2,:-1] = 1.0/12.0, 10.0/12.0, 1.0/12.0\n",
    "\n",
    "D2 = np.empty(tridiag_shape, dtype=float)\n",
    "D2[0,1:], D2[1,:], D2[2,:-1] = 1.0, -2.0, 1.0\n",
    "D2 *= 1.0 / (delta_x * delta_x)\n",
    "\n",
    "M2V = np.empty(tridiag_shape, dtype=float)\n",
    "M2V[0,1:], M2V[1,:], M2V[2,:-1] = M2[0,1:] * V_x_arr[:-1], M2[1,:] * V_x_arr[:], M2[2,:-1] * V_x_arr[1:]\n",
    "\n",
    "M1 = np.empty(tridiag_shape, dtype=float)\n",
    "M1[0,1:], M1[1,:], M1[2,:-1] = 1.0/6.0, 2.0/3.0, 1.0/6.0\n",
    "\n",
    "D1 = np.empty(tridiag_shape, dtype=float)\n",
    "D1[0,1:], D1[1,:], D1[2,:-1] = -1.0, 0.0, 1.0\n",
    "D1 *= 1.0 / (2.0 * delta_x)"
   ]
  },
  {
   "cell_type": "markdown",
   "metadata": {},
   "source": [
    "## unitary\n",
    "\n",
    "- [ ] Later, consider putting the imaginary (thus norm-absorbing) potential into the real part of the unitary operator"
   ]
  },
  {
   "cell_type": "code",
   "execution_count": 10,
   "metadata": {},
   "outputs": [],
   "source": [
    "U0_half = np.empty(tridiag_shape, dtype=complex)\n",
    "U0_half[:] = M2 - 1.0j * delta_t * 0.25 * (-0.5 * D2 + M2V)\n",
    "U0_conj_half = np.empty(tridiag_shape, dtype=complex)\n",
    "U0_conj_half[:] = M2 + 1.0j * delta_t * 0.25 * (-0.5 * D2 + M2V)\n",
    "\n",
    "U0 = np.empty(tridiag_shape, dtype=complex)\n",
    "U0[:] = M2 - 1.0j * delta_t * 0.5 * (-0.5 * D2 + M2V)\n",
    "U0_conj = np.empty(tridiag_shape, dtype=complex)\n",
    "U0_conj[:] = M2 + 1.0j * delta_t * 0.5 * (-0.5 * D2 + M2V)"
   ]
  },
  {
   "cell_type": "markdown",
   "metadata": {},
   "source": [
    "# Set initial state function"
   ]
  },
  {
   "cell_type": "code",
   "execution_count": 11,
   "metadata": {},
   "outputs": [],
   "source": [
    "sf_shape = (N_x,)\n",
    "sf_arr_0 = np.empty(sf_shape, dtype=complex)\n",
    "\n",
    "# sf_arr_0[:] = np.random.rand(*sf_shape) - 0.5\n",
    "from tdse.analytic import Gaussian1D\n",
    "sf_arr_0[:] = Gaussian1D(x_arr, t0, k_x=0.0)\n",
    "\n",
    "sf_arr = np.empty(sf_shape, dtype=complex)\n",
    "sf_arr[:] = sf_arr_0.copy()"
   ]
  },
  {
   "cell_type": "markdown",
   "metadata": {},
   "source": [
    "## Plot"
   ]
  },
  {
   "cell_type": "code",
   "execution_count": 12,
   "metadata": {},
   "outputs": [
    {
     "data": {
      "text/plain": [
       "<matplotlib.legend.Legend at 0x7f87870918d0>"
      ]
     },
     "execution_count": 12,
     "metadata": {},
     "output_type": "execute_result"
    },
    {
     "data": {
      "image/png": "[encoded data removed]",
      "text/plain": [
       "<Figure size 432x288 with 2 Axes>"
      ]
     },
     "metadata": {
      "needs_background": "light"
     },
     "output_type": "display_data"
    }
   ],
   "source": [
    "fig_ini, ax_ini = plt.subplots()\n",
    "l_sf_real, = ax_ini.plot(x_arr, sf_arr_0.real)\n",
    "l_sf_abs, = ax_ini.plot(x_arr, np.abs(sf_arr_0), '--')\n",
    "\n",
    "ax_energy = ax_ini.twinx()\n",
    "l_pot, = ax_energy.plot(x_arr, V_x_arr, '-')\n",
    "\n",
    "ax_ini.legend((l_sf_real, l_pot),(r'$Re[\\psi]$','$V(x)$'))"
   ]
  },
  {
   "cell_type": "markdown",
   "metadata": {},
   "source": [
    "# Analytical result"
   ]
  },
  {
   "cell_type": "code",
   "execution_count": 13,
   "metadata": {},
   "outputs": [],
   "source": [
    "sf_arr_ana = np.empty_like(sf_arr_0, dtype=complex)\n",
    "# sf_arr_ana[:] = Gaussian1D(x_arr, t=t_max, k_x=0.0)\n",
    "# sf_arr_ana = np.zeros_like(sf_arr_0)\n",
    "\n",
    "# from tdse.analytic import harmonic_oscillator_eigenfunc\n",
    "# sf_arr_ana[:] = harmonic_oscillator_eigenfunc(x_arr, 0, omega)"
   ]
  },
  {
   "cell_type": "markdown",
   "metadata": {},
   "source": [
    "## For volkov state"
   ]
  },
  {
   "cell_type": "markdown",
   "metadata": {},
   "source": [
    "### Construct k points array"
   ]
  },
  {
   "cell_type": "code",
   "execution_count": 14,
   "metadata": {},
   "outputs": [],
   "source": [
    "k_max = np.pi / delta_x\n",
    "delta_k = 2.0 * np.pi / (delta_x * (N_x-1))\n",
    "k_arr = np.linspace(-k_max,k_max,N_x)\n",
    "assert np.isclose(k_arr[1] - k_arr[0], delta_k, atol=1e-14, rtol=0)  # check consistency"
   ]
  },
  {
   "cell_type": "markdown",
   "metadata": {},
   "source": [
    "### Evaluate state function in k-space"
   ]
  },
  {
   "cell_type": "code",
   "execution_count": 15,
   "metadata": {},
   "outputs": [],
   "source": [
    "sf_k_arr = np.empty((N_x,), dtype=complex)\n",
    "\n",
    "integrand = np.empty_like(sf_k_arr, dtype=complex)\n",
    "from tdse.integral import numerical_integral_trapezoidal as int_trapz\n",
    "for k_idx in range(k_arr.size):\n",
    "    k = k_arr[k_idx]\n",
    "    integrand[:] = sf_arr_0 * np.exp(-1.0j * k * x_arr)\n",
    "    sf_k_arr[k_idx] = 1.0 / np.sqrt(2.0*np.pi) * int_trapz(x_arr, integrand)"
   ]
  },
  {
   "cell_type": "code",
   "execution_count": 16,
   "metadata": {},
   "outputs": [],
   "source": [
    "def eval_volkov_phase_k_arr(k_arr, t_idx, t_arr, A_t_func):\n",
    "    _volkov_phase_k_arr = np.empty_like(k_arr, dtype=float)\n",
    "    if t_idx == 0:\n",
    "        _volkov_phase_k_arr[:] = 0\n",
    "        return _volkov_phase_k_arr\n",
    "    _t_arr_slice = t_arr[:(t_idx+1)]\n",
    "    _A_t_arr_slice = A_t_func(_t_arr_slice)\n",
    "    for k_idx in range(k_arr.size):\n",
    "        k = k_arr[k_idx]\n",
    "        _volkov_phase_k_arr[k_idx] = int_trapz(_t_arr_slice, 0.5 * (k + _A_t_arr_slice) ** 2)\n",
    "    return _volkov_phase_k_arr"
   ]
  },
  {
   "cell_type": "code",
   "execution_count": 17,
   "metadata": {},
   "outputs": [],
   "source": [
    "t_idx = int( (t_max - t0 + delta_t) // delta_t )\n",
    "volkov_phase_k_arr = eval_volkov_phase_k_arr(k_arr, t_idx, t_arr, A_t_func)\n",
    "\n",
    "integrand = np.empty(sf_shape, dtype=complex)\n",
    "for x_idx in range(x_arr.size):\n",
    "    x = x_arr[x_idx]\n",
    "    integrand = sf_k_arr * np.exp(1.0j * (k_arr * x - volkov_phase_k_arr))\n",
    "    sf_arr_ana[x_idx] = 1.0 / np.sqrt(2.0*np.pi) * int_trapz(k_arr, integrand)"
   ]
  },
  {
   "cell_type": "markdown",
   "metadata": {},
   "source": [
    "## Plot"
   ]
  },
  {
   "cell_type": "code",
   "execution_count": 18,
   "metadata": {},
   "outputs": [
    {
     "data": {
      "text/plain": [
       "[<matplotlib.lines.Line2D at 0x7f878f8da438>]"
      ]
     },
     "execution_count": 18,
     "metadata": {},
     "output_type": "execute_result"
    },
    {
     "data": {
      "image/png": "[encoded data removed]",
      "text/plain": [
       "<Figure size 432x288 with 1 Axes>"
      ]
     },
     "metadata": {
      "needs_background": "light"
     },
     "output_type": "display_data"
    }
   ],
   "source": [
    "figk, axk = plt.subplots()\n",
    "axk.plot(k_arr, sf_k_arr.real)\n",
    "# axa.plot(k_arr, volkov_phase_k_arr.real)"
   ]
  },
  {
   "cell_type": "code",
   "execution_count": 19,
   "metadata": {},
   "outputs": [
    {
     "data": {
      "text/plain": [
       "[<matplotlib.lines.Line2D at 0x7f8786fa4438>]"
      ]
     },
     "execution_count": 19,
     "metadata": {},
     "output_type": "execute_result"
    },
    {
     "data": {
      "image/png": "[encoded data removed]",
      "text/plain": [
       "<Figure size 432x288 with 1 Axes>"
      ]
     },
     "metadata": {
      "needs_background": "light"
     },
     "output_type": "display_data"
    }
   ],
   "source": [
    "figa, axa = plt.subplots()\n",
    "axa.plot(x_arr, sf_arr_ana.real)\n",
    "# axa.plot(k_arr, volkov_phase_k_arr.real)"
   ]
  },
  {
   "cell_type": "markdown",
   "metadata": {},
   "source": [
    "# Propagation"
   ]
  },
  {
   "cell_type": "markdown",
   "metadata": {},
   "source": [
    "## Preparation"
   ]
  },
  {
   "cell_type": "code",
   "execution_count": 20,
   "metadata": {},
   "outputs": [],
   "source": [
    "## Allocate memory for intermediate result\n",
    "sf_arr_mid = np.empty_like(sf_arr, dtype=complex)\n",
    "\n",
    "## Allocate memory for time-evolution operator\n",
    "UA = np.empty(tridiag_shape, dtype=complex)\n",
    "UA_conj = np.empty(tridiag_shape, dtype=complex)"
   ]
  },
  {
   "cell_type": "markdown",
   "metadata": {},
   "source": [
    "## Actual propagation"
   ]
  },
  {
   "cell_type": "code",
   "execution_count": 21,
   "metadata": {},
   "outputs": [],
   "source": [
    "from tdse.integral import normalize_trapezoid\n",
    "\n",
    "t_idx = 0\n",
    "t = 0.5 * (t_arr[t_idx] + t_arr[t_idx+1])  # use the middle time point for each timestep\n",
    "A_t = A_t_func(t)\n",
    "\n",
    "UA[:] = M1 - delta_t * 0.5 * A_t * D1\n",
    "UA_conj[:] = M1 - delta_t * 0.5 * A_t * D1\n",
    "\n",
    "tridiag_forward(U0_half, sf_arr, sf_arr_mid)\n",
    "tridiag_backward(U0_conj_half, sf_arr, sf_arr_mid)\n",
    "tridiag_forward(UA, sf_arr, sf_arr_mid)\n",
    "tridiag_backward(UA_conj, sf_arr, sf_arr_mid)\n",
    "\n",
    "for t_idx in range(1,N_timestep):\n",
    "    \n",
    "    normalize_trapezoid(x_arr, sf_arr)\n",
    "\n",
    "    t = 0.5 * (t_arr[t_idx] + t_arr[t_idx+1])\n",
    "    A_t = A_t_func(t)\n",
    "\n",
    "    UA[:] = M1 - delta_t * 0.5 * A_t * D1\n",
    "    UA_conj[:] = M1 - delta_t * 0.5 * A_t * D1\n",
    "\n",
    "    tridiag_forward(U0, sf_arr, sf_arr_mid)\n",
    "    tridiag_backward(U0_conj, sf_arr, sf_arr_mid)\n",
    "    tridiag_forward(UA, sf_arr, sf_arr_mid)\n",
    "    tridiag_backward(UA_conj, sf_arr, sf_arr_mid)\n",
    "    \n",
    "tridiag_forward(U0_half, sf_arr, sf_arr_mid)\n",
    "tridiag_backward(U0_conj_half, sf_arr, sf_arr_mid)\n",
    "\n",
    "normalize_trapezoid(x_arr, sf_arr)"
   ]
  },
  {
   "cell_type": "markdown",
   "metadata": {},
   "source": [
    "# Error estimation"
   ]
  },
  {
   "cell_type": "code",
   "execution_count": 22,
   "metadata": {},
   "outputs": [],
   "source": [
    "err_arr = np.empty(sf_shape, dtype=float)\n",
    "if imag_prop: err_arr[:] = np.abs(sf_arr) - np.abs(sf_arr_ana)\n",
    "else: err_arr[:] = np.abs(sf_arr - sf_arr_ana)"
   ]
  },
  {
   "cell_type": "markdown",
   "metadata": {},
   "source": [
    "# Visualization"
   ]
  },
  {
   "cell_type": "code",
   "execution_count": 23,
   "metadata": {},
   "outputs": [
    {
     "data": {
      "text/plain": [
       "<matplotlib.legend.Legend at 0x7f8786f159b0>"
      ]
     },
     "execution_count": 23,
     "metadata": {},
     "output_type": "execute_result"
    },
    {
     "data": {
      "image/png": "[encoded data removed]",
      "text/plain": [
       "<Figure size 432x288 with 2 Axes>"
      ]
     },
     "metadata": {
      "needs_background": "light"
     },
     "output_type": "display_data"
    }
   ],
   "source": [
    "fig, ax = plt.subplots()\n",
    "\n",
    "l_num, = ax.plot(x_arr, sf_arr.real)\n",
    "ax.plot(x_arr, np.abs(sf_arr), '--', color=l_num.get_color())\n",
    "\n",
    "l_ana, = ax.plot(x_arr, sf_arr_ana.real)\n",
    "ax.plot(x_arr, np.abs(sf_arr_ana), '--', color=l_ana.get_color())\n",
    "\n",
    "ax2 = ax.twinx()\n",
    "l_error, = ax2.semilogy(x_arr, err_arr, color='lightgrey')\n",
    "ax2.set_ylim(None,1)\n",
    "ax2.set_ylabel('error')\n",
    "\n",
    "ax.legend((l_num,l_ana, l_error),('numerical','analytical','error'))"
   ]
  },
  {
   "cell_type": "code",
   "execution_count": 24,
   "metadata": {},
   "outputs": [
    {
     "data": {
      "text/plain": [
       "0.0009185899583322905"
      ]
     },
     "execution_count": 24,
     "metadata": {},
     "output_type": "execute_result"
    }
   ],
   "source": [
    "from tdse.integral import eval_norm_trapezoid\n",
    "\n",
    "eval_norm_trapezoid(x_arr, err_arr)"
   ]
  }
 ],
 "metadata": {
  "kernelspec": {
   "display_name": "Python 3",
   "language": "python",
   "name": "python3"
  },
  "language_info": {
   "codemirror_mode": {
    "name": "ipython",
    "version": 3
   },
   "file_extension": ".py",
   "mimetype": "text/x-python",
   "name": "python",
   "nbconvert_exporter": "python",
   "pygments_lexer": "ipython3",
   "version": "3.5.2"
  }
 },
 "nbformat": 4,
 "nbformat_minor": 2
}
