{
 "cells": [
  {
   "cell_type": "markdown",
   "metadata": {},
   "source": [
    "# [TODO] compare for non-zero $k_x$\n",
    "\n",
    "-> [DONE] done.\n",
    "\n",
    "# [TODO] Implement winop for $n$ larger than 1\n",
    "\n",
    "# [TODO] Check whether the W_root_plus and W_root_minus have same effect \n",
    "\n",
    "-> Yes, it seems so; the change of the sign doesn't seem to have effect on the resulting energy spectrum.\n",
    "\n",
    "-> [TODO] need to be more rigorous to prove it\n",
    "- [DONE] yes, it is because $\\sqrt(W^{+})$ and $\\sqrt(W^{-})$ are in conjugate transpose relation each other and commute each other. using this fact, it is possible to prove that the resulting energy spectrum are identical.\n",
    "- [TODO] prove for $n > 1$ case"
   ]
  },
  {
   "cell_type": "code",
   "execution_count": 1,
   "metadata": {},
   "outputs": [],
   "source": [
    "import numpy as np\n",
    "import matplotlib.pyplot as plt\n",
    "\n",
    "from matplotlib import rcParams\n",
    "rcParams['font.size'] = 13"
   ]
  },
  {
   "cell_type": "markdown",
   "metadata": {},
   "source": [
    "# Configure Cooridnate"
   ]
  },
  {
   "cell_type": "code",
   "execution_count": 2,
   "metadata": {},
   "outputs": [],
   "source": [
    "x_arr = np.linspace(-50,50,501)"
   ]
  },
  {
   "cell_type": "markdown",
   "metadata": {},
   "source": [
    "# Define state function vector"
   ]
  },
  {
   "cell_type": "code",
   "execution_count": 3,
   "metadata": {},
   "outputs": [],
   "source": [
    "sf_arr = np.empty_like(x_arr, dtype=complex)\n",
    "from tdse.analytic import Gaussian1D\n",
    "k_x = 1.0\n",
    "sf_arr[:] = Gaussian1D(x_arr, t=0.0, k_x=k_x)"
   ]
  },
  {
   "cell_type": "markdown",
   "metadata": {},
   "source": [
    "# Configure Hamiltonian"
   ]
  },
  {
   "cell_type": "code",
   "execution_count": 4,
   "metadata": {},
   "outputs": [],
   "source": [
    "V_x_arr = np.zeros_like(x_arr, dtype=float)"
   ]
  },
  {
   "cell_type": "markdown",
   "metadata": {},
   "source": [
    "# Configure window operator"
   ]
  },
  {
   "cell_type": "code",
   "execution_count": 5,
   "metadata": {},
   "outputs": [
    {
     "name": "stdout",
     "output_type": "stream",
     "text": [
      "Resolution: 0.27 eV\n"
     ]
    }
   ],
   "source": [
    "winop_n=2\n",
    "winop_gamma = 0.01\n",
    "\n",
    "from nunit import au\n",
    "au2ev = au.au2si['energy'] / au.e\n",
    "print(\"Resolution: {:.2f} eV\".format(winop_gamma * au2ev))"
   ]
  },
  {
   "cell_type": "markdown",
   "metadata": {},
   "source": [
    "# Construct energy array"
   ]
  },
  {
   "cell_type": "code",
   "execution_count": 6,
   "metadata": {},
   "outputs": [],
   "source": [
    "E_min = -0.5\n",
    "N_E = 150\n",
    "E_arr = E_min + 2*winop_gamma*np.arange(N_E)"
   ]
  },
  {
   "cell_type": "markdown",
   "metadata": {},
   "source": [
    "# Evaluate energy spectrum from `WINOP`"
   ]
  },
  {
   "cell_type": "markdown",
   "metadata": {},
   "source": [
    "## Enlarge the spatial grid"
   ]
  },
  {
   "cell_type": "code",
   "execution_count": 7,
   "metadata": {},
   "outputs": [],
   "source": [
    "# def enlarge_x_arr(N_plus, x_arr):\n",
    "#     _N_winop = x_arr.size + 2*N_plus\n",
    "#     _x_arr_winop = np.empty((_N_winop,), dtype=float)\n",
    "#     _delta_x = x_arr[1] - x_arr[0]\n",
    "#     _x_arr_winop[:N_plus] = x_arr[0] + np.arange(-N_plus,0) * _delta_x\n",
    "#     _x_arr_winop[N_plus:_N_winop-N_plus] = x_arr\n",
    "#     _x_arr_winop[_N_winop-N_plus:] = x_arr[-1] + np.arange(1,N_plus+1) * _delta_x\n",
    "#     return _x_arr_winop\n",
    "\n",
    "# def enlarge_arr(N_plus, arr):\n",
    "#     _N_winop = x_arr.size + 2*N_plus\n",
    "#     _arr_enlarged = np.zeros((_N_winop,), dtype=arr.dtype)\n",
    "#     _arr_enlarged[N_plus:_N_winop-N_plus] = arr\n",
    "#     return _arr_enlarged\n",
    "\n",
    "from tdse.winop.resol import enlarge_x_arr, enlarge_arr\n",
    "\n",
    "N_plus = 500\n",
    "sf_arr_winop = enlarge_arr(N_plus, sf_arr)\n",
    "V_x_arr_winop = enlarge_arr(N_plus, V_x_arr)\n",
    "x_arr_winop = enlarge_x_arr(N_plus, x_arr)"
   ]
  },
  {
   "cell_type": "markdown",
   "metadata": {},
   "source": [
    "## Evaluation"
   ]
  },
  {
   "cell_type": "code",
   "execution_count": 8,
   "metadata": {},
   "outputs": [],
   "source": [
    "from tdse.winop import eval_energy_spectrum_for_1D_hamil\n",
    "spectrum_E_arr = eval_energy_spectrum_for_1D_hamil(sf_arr_winop, x_arr_winop, V_x_arr_winop, E_arr, winop_n, winop_gamma)"
   ]
  },
  {
   "cell_type": "markdown",
   "metadata": {},
   "source": [
    "# Comparison to analytical result"
   ]
  },
  {
   "cell_type": "code",
   "execution_count": 9,
   "metadata": {},
   "outputs": [],
   "source": [
    "pos_E_arr = E_arr[E_arr > 0]\n",
    "pos_k_arr = np.sqrt(2.0*pos_E_arr)\n",
    "from tdse.analytic import Gaussian1D_k_t0\n",
    "spectrum_E_ana_arr = 1.0/pos_k_arr * (\n",
    "    np.square( np.abs(Gaussian1D_k_t0(pos_k_arr, k_x)) ) \n",
    "    + np.square( np.abs(Gaussian1D_k_t0(-pos_k_arr, k_x)) )\n",
    ")"
   ]
  },
  {
   "cell_type": "markdown",
   "metadata": {},
   "source": [
    "## Draw\n",
    "\n",
    "### [TODO] The reason for oscillation in WINOP result\n",
    "\n",
    "- the oscillation seems to increase its amplitude as gamma get smaller"
   ]
  },
  {
   "cell_type": "code",
   "execution_count": 10,
   "metadata": {},
   "outputs": [
    {
     "data": {
      "image/png": "[encoded data removed]",
      "text/plain": [
       "<Figure size 720x288 with 1 Axes>"
      ]
     },
     "metadata": {
      "needs_background": "light"
     },
     "output_type": "display_data"
    }
   ],
   "source": [
    "figE, axE = plt.subplots(figsize=(10,4))\n",
    "li_winop, = axE.plot(E_arr, spectrum_E_arr, '.-')\n",
    "li_ana, = axE.plot(pos_E_arr, spectrum_E_ana_arr, '.-')\n",
    "\n",
    "axE.set_title(r\"energy spectrum $|{\\langle}E|\\psi{\\rangle}|^2$\")\n",
    "axE.set_xlabel(\"energy / a.u.\")\n",
    "axE.set_ylabel(\"probability density / a.u.\")\n",
    "axE.legend(\n",
    "    (li_winop, li_ana), \n",
    "    (\"window-operator (k_x={:.1f})\".format(k_x), \"analytical-k_x={:.1f}\".format(k_x)))\n",
    "\n",
    "figE.tight_layout()"
   ]
  },
  {
   "cell_type": "code",
   "execution_count": 11,
   "metadata": {},
   "outputs": [],
   "source": [
    "# figE.savefig(\"winop-analytical-comparison-test-3-oscil-reduced-by-increased-xmax.png\")"
   ]
  },
  {
   "cell_type": "markdown",
   "metadata": {},
   "source": [
    "# Error analysis"
   ]
  },
  {
   "cell_type": "code",
   "execution_count": 12,
   "metadata": {},
   "outputs": [
    {
     "name": "stdout",
     "output_type": "stream",
     "text": [
      "The energy resolution is large enough compared to continuum state density: False\n",
      "window operator gamma: 0.01000 / delta_E: 0.01486\n"
     ]
    }
   ],
   "source": [
    "# def eval_delta_E(E, x_arr):\n",
    "#     _L = x_arr[-1] - x_arr[0]\n",
    "#     _n = np.sqrt(2) * _L / np.pi * np.sqrt(E)\n",
    "#     _delta_E = np.pi**2 * 0.5 / _L**2 * (_n*2 + 1)\n",
    "#     return _delta_E\n",
    "\n",
    "from tdse.winop.resol import eval_delta_E\n",
    "\n",
    "E_max = 1.0\n",
    "delta_E_max = eval_delta_E(E_max, x_arr_winop)\n",
    "print(\"The energy resolution is large enough compared to estimated continuum state density: {}\".format(winop_gamma > delta_E_max))\n",
    "print(\"window operator gamma: {:.5f} / delta_E: {:.5f}\".format(winop_gamma, delta_E_max))"
   ]
  }
 ],
 "metadata": {
  "kernelspec": {
   "display_name": "Python 3",
   "language": "python",
   "name": "python3"
  },
  "language_info": {
   "codemirror_mode": {
    "name": "ipython",
    "version": 3
   },
   "file_extension": ".py",
   "mimetype": "text/x-python",
   "name": "python",
   "nbconvert_exporter": "python",
   "pygments_lexer": "ipython3",
   "version": "3.5.2"
  }
 },
 "nbformat": 4,
 "nbformat_minor": 2
}
