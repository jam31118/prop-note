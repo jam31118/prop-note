{
 "cells": [
  {
   "cell_type": "code",
   "execution_count": 1,
   "metadata": {},
   "outputs": [],
   "source": [
    "import numpy as np\n",
    "\n",
    "import matplotlib.pyplot as plt"
   ]
  },
  {
   "cell_type": "code",
   "execution_count": 2,
   "metadata": {},
   "outputs": [],
   "source": [
    "from tdse.matrix_py import mat_vec_mul_tridiag\n",
    "from tdse.matrix_py import gaussian_elimination_tridiagonal\n",
    "\n",
    "def tridiag_forward(tridiag, v, b):\n",
    "    b[:] = mat_vec_mul_tridiag(tridiag[1,:], tridiag[0,1:], tridiag[2,:-1], v)\n",
    "\n",
    "def tridiag_backward(tridiag, v, b):\n",
    "    v[:] = gaussian_elimination_tridiagonal(tridiag[1,:], tridiag[0,1:], tridiag[2,:-1], b)"
   ]
  },
  {
   "cell_type": "markdown",
   "metadata": {},
   "source": [
    "# Parameter\n",
    "\n",
    "- may be replaced by input file read"
   ]
  },
  {
   "cell_type": "code",
   "execution_count": 3,
   "metadata": {},
   "outputs": [],
   "source": [
    "R_in = 50.03\n",
    "delta_x = 0.2\n",
    "imag_pot_width = 30.0\n",
    "delta_t = 0.05\n",
    "V_x_func = lambda x: np.zeros_like(x)\n",
    "A_t_func = lambda t: np.zeros_like(t)\n",
    "t_max_in = 4.98\n",
    "t0 = 0.0"
   ]
  },
  {
   "cell_type": "markdown",
   "metadata": {},
   "source": [
    "### Check parameters"
   ]
  },
  {
   "cell_type": "code",
   "execution_count": 4,
   "metadata": {},
   "outputs": [],
   "source": [
    "assert R_in > 0 and delta_x > 0 and imag_pot_width > 0 and delta_t > 0\n",
    "from numbers import Integral"
   ]
  },
  {
   "cell_type": "markdown",
   "metadata": {},
   "source": [
    "# Construct coordinates arrays"
   ]
  },
  {
   "cell_type": "markdown",
   "metadata": {},
   "source": [
    "## spatial array"
   ]
  },
  {
   "cell_type": "code",
   "execution_count": 5,
   "metadata": {},
   "outputs": [],
   "source": [
    "N_x = 2 * int(R_in // delta_x) + 1\n",
    "N_x_width = N_x // 2\n",
    "# R = R_in - (R_in % delta_x)\n",
    "R = delta_x * N_x_width\n",
    "assert R == (R_in - (R_in % delta_x))\n",
    "x_arr = np.linspace(-R,R,N_x)\n",
    "assert np.isclose(x_arr[1] - x_arr[0],delta_x, atol=1e-14, rtol=0)"
   ]
  },
  {
   "cell_type": "markdown",
   "metadata": {},
   "source": [
    "## temporal array"
   ]
  },
  {
   "cell_type": "code",
   "execution_count": 6,
   "metadata": {},
   "outputs": [],
   "source": [
    "N_timestep = int( (t_max_in - t0 + delta_t) // delta_t )\n",
    "t_max = t0 + delta_t * N_timestep\n",
    "N_timepoint = N_timestep + 1\n",
    "t_arr = np.linspace(t0, t_max, N_timepoint)\n",
    "assert np.isclose(t_arr[1] - t_arr[0], delta_t, atol=1e-14, rtol=0)\n",
    "# t_arr = t0 + delta_t * np.arange(N_t)"
   ]
  },
  {
   "cell_type": "markdown",
   "metadata": {},
   "source": [
    "# Construct potential arrays: $V(x)$, $A(t)$"
   ]
  },
  {
   "cell_type": "code",
   "execution_count": 7,
   "metadata": {},
   "outputs": [],
   "source": [
    "V_x_arr = V_x_func(x_arr)\n",
    "A_t_arr = A_t_func(t_arr)"
   ]
  },
  {
   "cell_type": "markdown",
   "metadata": {},
   "source": [
    "# Construct tridiagonals"
   ]
  },
  {
   "cell_type": "markdown",
   "metadata": {},
   "source": [
    "## intermediate matrices"
   ]
  },
  {
   "cell_type": "code",
   "execution_count": 8,
   "metadata": {},
   "outputs": [],
   "source": [
    "tridiag_shape = (3,N_x)\n",
    "M2 = np.empty(tridiag_shape, dtype=float)\n",
    "M2[0,1:], M2[1,:], M2[2,:-1] = 1.0/12.0, 10.0/12.0, 1.0/12.0\n",
    "\n",
    "D2 = np.empty(tridiag_shape, dtype=float)\n",
    "D2[0,1:], D2[1,:], D2[2,:-1] = 1.0, -2.0, 1.0\n",
    "D2 *= 1.0 / (delta_x * delta_x)\n",
    "\n",
    "M2V = np.empty(tridiag_shape, dtype=float)\n",
    "M2V[0,1:], M2V[1,:], M2V[2,:-1] = M2[0,1:] * V_x_arr[:N_x-1], M2V[1,:] * V_x_arr[:N_x], M2V[2,:-1] * V_x_arr[1:]\n",
    "\n",
    "M1 = np.empty(tridiag_shape, dtype=float)\n",
    "M1[0,1:], M1[1,:], M1[2,:-1] = 1.0/4.0, 2.0/3.0, 1.0/4.0\n",
    "\n",
    "D1 = np.empty(tridiag_shape, dtype=float)\n",
    "D1[0,1:], D1[1,:], D1[2,:-1] = -1.0, 0.0, 1.0\n",
    "D1 *= 1.0 / (2.0 * delta_x)"
   ]
  },
  {
   "cell_type": "markdown",
   "metadata": {},
   "source": [
    "## unitary\n",
    "\n",
    "- [ ] Later, consider putting the imaginary potential into the real part of the unitary operator"
   ]
  },
  {
   "cell_type": "code",
   "execution_count": 9,
   "metadata": {},
   "outputs": [],
   "source": [
    "U0_half = np.empty(tridiag_shape, dtype=complex)\n",
    "U0_half.real = M2\n",
    "U0_half.imag = - delta_t * 0.5 * (-0.5 * D2 + M2V)\n",
    "\n",
    "U0 = np.empty(tridiag_shape, dtype=complex)\n",
    "U0.real = M2\n",
    "U0.imag = - delta_t * 1.0 * (-0.5 * D2 + M2V)"
   ]
  },
  {
   "cell_type": "markdown",
   "metadata": {},
   "source": [
    "# Set initial state function"
   ]
  },
  {
   "cell_type": "code",
   "execution_count": 10,
   "metadata": {},
   "outputs": [],
   "source": [
    "sf_arr_0 = np.empty((N_x,), dtype=complex)\n",
    "sf_arr = np.empty((N_x,), dtype=complex)\n",
    "\n",
    "# sf_arr_0[:] = np.exp(-x_arr*x_arr)\n",
    "from tdse.analytic import Gaussian1D\n",
    "sf_arr_0[:] = Gaussian1D(x_arr, t0, k_x=0.0)\n",
    "sf_arr[:] = sf_arr_0.copy()"
   ]
  },
  {
   "cell_type": "markdown",
   "metadata": {},
   "source": [
    "## Plot"
   ]
  },
  {
   "cell_type": "code",
   "execution_count": 11,
   "metadata": {},
   "outputs": [
    {
     "data": {
      "text/plain": [
       "[<matplotlib.lines.Line2D at 0x7f05d396cef0>]"
      ]
     },
     "execution_count": 11,
     "metadata": {},
     "output_type": "execute_result"
    },
    {
     "data": {
      "image/png": "[encoded data removed]",
      "text/plain": [
       "<Figure size 432x288 with 1 Axes>"
      ]
     },
     "metadata": {
      "needs_background": "light"
     },
     "output_type": "display_data"
    }
   ],
   "source": [
    "fig_ini, ax_ini = plt.subplots()\n",
    "ax_ini.plot(x_arr, sf_arr_0.real)\n",
    "ax_ini.plot(x_arr, np.abs(sf_arr_0), '--')"
   ]
  },
  {
   "cell_type": "markdown",
   "metadata": {},
   "source": [
    "# Propagation"
   ]
  },
  {
   "cell_type": "markdown",
   "metadata": {},
   "source": [
    "### Preparation"
   ]
  },
  {
   "cell_type": "code",
   "execution_count": 12,
   "metadata": {},
   "outputs": [],
   "source": [
    "sf_arr_mid = np.empty_like(sf_arr, dtype=complex)"
   ]
  },
  {
   "cell_type": "markdown",
   "metadata": {},
   "source": [
    "### Set time"
   ]
  },
  {
   "cell_type": "code",
   "execution_count": 13,
   "metadata": {},
   "outputs": [],
   "source": [
    "t_idx = 0\n",
    "t = 0.5 * (t_arr[t_idx] + t_arr[t_idx+1])\n",
    "A_t = A_t_func(t)\n",
    "\n",
    "UA = np.empty(tridiag_shape, dtype=complex)\n",
    "UA.imag = 0.0\n",
    "UA.real = M1 - delta_t * A_t * D1\n",
    "\n",
    "tridiag_forward(U0_half, sf_arr, sf_arr_mid)\n",
    "tridiag_backward(U0_half.conj(), sf_arr, sf_arr_mid)\n",
    "tridiag_forward(UA, sf_arr, sf_arr_mid)\n",
    "tridiag_backward(UA.conj(), sf_arr, sf_arr_mid)\n",
    "\n",
    "for t_idx in range(1,N_timestep):\n",
    "\n",
    "    t = 0.5 * (t_arr[t_idx] + t_arr[t_idx+1])\n",
    "    A_t = A_t_func(t)\n",
    "\n",
    "    UA.real = M1 - delta_t * A_t * D1\n",
    "\n",
    "    tridiag_forward(U0, sf_arr, sf_arr_mid)\n",
    "    tridiag_backward(U0.conj(), sf_arr, sf_arr_mid)\n",
    "    tridiag_forward(UA, sf_arr, sf_arr_mid)\n",
    "    tridiag_backward(UA.conj(), sf_arr, sf_arr_mid)\n",
    "    \n",
    "tridiag_forward(U0_half, sf_arr, sf_arr_mid)\n",
    "tridiag_backward(U0_half.conj(), sf_arr, sf_arr_mid)"
   ]
  },
  {
   "cell_type": "markdown",
   "metadata": {},
   "source": [
    "# Analytical result"
   ]
  },
  {
   "cell_type": "code",
   "execution_count": 14,
   "metadata": {},
   "outputs": [],
   "source": [
    "sf_arr_ana = np.empty_like(sf_arr_0, dtype=complex)\n",
    "sf_arr_ana[:] = Gaussian1D(x_arr, t=t_max, k_x=0.0)"
   ]
  },
  {
   "cell_type": "markdown",
   "metadata": {},
   "source": [
    "# Visualization"
   ]
  },
  {
   "cell_type": "code",
   "execution_count": 15,
   "metadata": {},
   "outputs": [
    {
     "data": {
      "text/plain": [
       "[<matplotlib.lines.Line2D at 0x7f05d38f22e8>]"
      ]
     },
     "execution_count": 15,
     "metadata": {},
     "output_type": "execute_result"
    },
    {
     "data": {
      "image/png": "[encoded data removed]",
      "text/plain": [
       "<Figure size 432x288 with 1 Axes>"
      ]
     },
     "metadata": {
      "needs_background": "light"
     },
     "output_type": "display_data"
    }
   ],
   "source": [
    "fig, ax = plt.subplots()\n",
    "\n",
    "ax.plot(x_arr, sf_arr.real)\n",
    "ax.plot(x_arr, np.abs(sf_arr))\n",
    "\n",
    "ax.plot(x_arr, sf_arr_ana.real)\n",
    "ax.plot(x_arr, np.abs(sf_arr_ana))"
   ]
  }
 ],
 "metadata": {
  "kernelspec": {
   "display_name": "Python 3",
   "language": "python",
   "name": "python3"
  },
  "language_info": {
   "codemirror_mode": {
    "name": "ipython",
    "version": 3
   },
   "file_extension": ".py",
   "mimetype": "text/x-python",
   "name": "python",
   "nbconvert_exporter": "python",
   "pygments_lexer": "ipython3",
   "version": "3.5.2"
  }
 },
 "nbformat": 4,
 "nbformat_minor": 2
}
