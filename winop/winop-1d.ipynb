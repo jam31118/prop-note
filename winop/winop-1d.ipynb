{
 "cells": [
  {
   "cell_type": "markdown",
   "metadata": {},
   "source": [
    "# [TODO] compare for non-zero $k_x$\n",
    "\n",
    "# [TODO] Implement winop for $n$ larger than 1\n",
    "\n",
    "# [TODO] Check whether the W_root_plus and W_root_minus have same effect \n",
    "\n",
    "-> Yes, it seems so; the change of the sign doesn't seem to have effect on the resulting energy spectrum.\n",
    "-> [TODO] need to be more rigorous to prove it"
   ]
  },
  {
   "cell_type": "code",
   "execution_count": 1,
   "metadata": {},
   "outputs": [],
   "source": [
    "import numpy as np\n",
    "import matplotlib.pyplot as plt"
   ]
  },
  {
   "cell_type": "markdown",
   "metadata": {},
   "source": [
    "# Configure Cooridnate"
   ]
  },
  {
   "cell_type": "code",
   "execution_count": 2,
   "metadata": {},
   "outputs": [],
   "source": [
    "x_arr = np.linspace(-50,50,501)"
   ]
  },
  {
   "cell_type": "markdown",
   "metadata": {},
   "source": [
    "# Define state function vector"
   ]
  },
  {
   "cell_type": "code",
   "execution_count": 3,
   "metadata": {},
   "outputs": [],
   "source": [
    "sf_arr = np.empty_like(x_arr, dtype=complex)\n",
    "from tdse.analytic import Gaussian1D\n",
    "k_x = 0.0\n",
    "sf_arr[:] = Gaussian1D(x_arr, t=0.0, k_x=k_x)"
   ]
  },
  {
   "cell_type": "markdown",
   "metadata": {},
   "source": [
    "# Configure Hamiltonian"
   ]
  },
  {
   "cell_type": "code",
   "execution_count": 4,
   "metadata": {},
   "outputs": [],
   "source": [
    "V_x_arr = np.zeros_like(x_arr, dtype=float)"
   ]
  },
  {
   "cell_type": "markdown",
   "metadata": {},
   "source": [
    "# Configure window operator"
   ]
  },
  {
   "cell_type": "code",
   "execution_count": 5,
   "metadata": {},
   "outputs": [],
   "source": [
    "winop_n=1\n",
    "winop_gamma = 0.1"
   ]
  },
  {
   "cell_type": "markdown",
   "metadata": {},
   "source": [
    "# Construct energy array"
   ]
  },
  {
   "cell_type": "code",
   "execution_count": 6,
   "metadata": {},
   "outputs": [],
   "source": [
    "E_min = -5.0\n",
    "N_E = 50\n",
    "E_arr = E_min + 2*winop_gamma*np.arange(N_E)"
   ]
  },
  {
   "cell_type": "markdown",
   "metadata": {},
   "source": [
    "# Evaluate energy spectrum from `WINOP`"
   ]
  },
  {
   "cell_type": "code",
   "execution_count": 7,
   "metadata": {},
   "outputs": [],
   "source": [
    "from tdse.winop import eval_energy_spectrum_for_1D_hamil\n",
    "spectrum_E_arr = eval_energy_spectrum_for_1D_hamil(sf_arr, x_arr, V_x_arr, E_arr, winop_n, winop_gamma)"
   ]
  },
  {
   "cell_type": "markdown",
   "metadata": {},
   "source": [
    "# Comparison to analytical result"
   ]
  },
  {
   "cell_type": "code",
   "execution_count": 8,
   "metadata": {},
   "outputs": [],
   "source": [
    "pos_E_arr = E_arr[E_arr > 0]\n",
    "pos_k_arr = np.sqrt(2.0*pos_E_arr)\n",
    "from tdse.analytic import Gaussian1D_k_t0\n",
    "spectrum_E_ana_arr = 1.0/pos_k_arr * (\n",
    "    np.square( np.abs(Gaussian1D_k_t0(pos_k_arr, k_x)) ) \n",
    "    + np.square( np.abs(Gaussian1D_k_t0(-pos_k_arr, k_x)) )\n",
    ")"
   ]
  },
  {
   "cell_type": "markdown",
   "metadata": {},
   "source": [
    "## Draw"
   ]
  },
  {
   "cell_type": "code",
   "execution_count": 9,
   "metadata": {},
   "outputs": [
    {
     "data": {
      "image/png": "[encoded data removed]",
      "text/plain": [
       "<Figure size 432x288 with 1 Axes>"
      ]
     },
     "metadata": {
      "needs_background": "light"
     },
     "output_type": "display_data"
    }
   ],
   "source": [
    "figE, axE = plt.subplots()\n",
    "li_winop, = axE.plot(E_arr, spectrum_E_arr, '.-')\n",
    "li_ana, = axE.plot(pos_E_arr, spectrum_E_ana_arr, '.')\n",
    "\n",
    "axE.set_title(r\"energy spectrum $|{\\langle}E|\\psi{\\rangle}|^2$\")\n",
    "axE.set_xlabel(\"energy / a.u.\")\n",
    "axE.set_ylabel(\"probability density / a.u.\")\n",
    "axE.legend((li_winop, li_ana), (\"window-operator\", \"analytical\"))\n",
    "\n",
    "figE.tight_layout()"
   ]
  },
  {
   "cell_type": "code",
   "execution_count": 10,
   "metadata": {},
   "outputs": [],
   "source": [
    "# figE.savefig(\"winop-analytical-comparison-test.png\")"
   ]
  }
 ],
 "metadata": {
  "kernelspec": {
   "display_name": "Python 3",
   "language": "python",
   "name": "python3"
  },
  "language_info": {
   "codemirror_mode": {
    "name": "ipython",
    "version": 3
   },
   "file_extension": ".py",
   "mimetype": "text/x-python",
   "name": "python",
   "nbconvert_exporter": "python",
   "pygments_lexer": "ipython3",
   "version": "3.5.2"
  }
 },
 "nbformat": 4,
 "nbformat_minor": 2
}
