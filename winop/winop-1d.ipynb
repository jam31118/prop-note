{
 "cells": [
  {
   "cell_type": "code",
   "execution_count": 8,
   "metadata": {},
   "outputs": [],
   "source": [
    "import numpy as np\n",
    "import matplotlib.pyplot as plt\n",
    "from tdse.evol import get_D2_tridiag, get_M2_tridiag, mul_tridiag_and_diag\n",
    "\n",
    "from tdse.matrix_py import mat_vec_mul_tridiag, gaussian_elimination_tridiagonal\n",
    "\n",
    "def tridiag_forward(tridiag, v, b):\n",
    "    b[:] = mat_vec_mul_tridiag(tridiag[1,:], tridiag[0,1:], tridiag[2,:-1], v)\n",
    "\n",
    "def tridiag_backward(tridiag, v, b):\n",
    "    v[:] = gaussian_elimination_tridiagonal(tridiag[1,:], tridiag[0,1:], tridiag[2,:-1], b)"
   ]
  },
  {
   "cell_type": "code",
   "execution_count": 3,
   "metadata": {},
   "outputs": [],
   "source": [
    "x_arr = np.linspace(-50,50,501)\n",
    "delta_x = x_arr[1] - x_arr[0]\n",
    "N_x = x_arr.size"
   ]
  },
  {
   "cell_type": "code",
   "execution_count": 7,
   "metadata": {},
   "outputs": [],
   "source": [
    "D2 = get_D2_tridiag(N_x, delta_x)\n",
    "M2 = get_M2_tridiag(N_x)\n",
    "V_x_arr = np.zeros_like(x_arr, dtype=float)\n",
    "M2V = mul_tridiag_and_diag(M2, V_x_arr)"
   ]
  },
  {
   "cell_type": "code",
   "execution_count": 11,
   "metadata": {},
   "outputs": [],
   "source": [
    "sf_arr = np.empty_like(x_arr, dtype=complex)\n",
    "from tdse.analytic import Gaussian1D\n",
    "sf_arr[:] = Gaussian1D(x_arr, t=0.0, k_x=0.0)"
   ]
  },
  {
   "cell_type": "markdown",
   "metadata": {},
   "source": [
    "# [TODO] Check whether the W_root_plus and W_root_minus have same effect "
   ]
  },
  {
   "cell_type": "code",
   "execution_count": 22,
   "metadata": {},
   "outputs": [],
   "source": [
    "gamma = 0.1\n",
    "E_min = -5.0\n",
    "N_E = 50\n",
    "E_arr = E_min + 2*gamma*np.arange(N_E)\n",
    "spectrum_E_arr = np.empty_like(E_arr, dtype=float)\n",
    "\n",
    "winop_left_tridiag_static = -0.5*D2 + M2V + (1.0j*gamma)*M2\n",
    "right_arr = np.empty_like(x_arr, dtype=complex)\n",
    "root_W_sf_arr = np.empty_like(x_arr, dtype=complex)\n",
    "\n",
    "for E_idx, E0 in enumerate(E_arr):\n",
    "    winop_left_tridiag = winop_left_tridiag_static - E0 * M2\n",
    "    tridiag_forward(gamma*M2, sf_arr, right_arr)\n",
    "    tridiag_backward(winop_left_tridiag, root_W_sf_arr, right_arr)\n",
    "\n",
    "    from tdse.integral import eval_norm_trapezoid\n",
    "    spectrum_E_arr[E_idx] = eval_norm_trapezoid(x_arr, root_W_sf_arr)"
   ]
  },
  {
   "cell_type": "markdown",
   "metadata": {},
   "source": [
    "# [SOLVED] Why does this have negative energy for $V_{min}=0$?\n",
    "\n",
    "-> the absence of gamma was the reason.\n"
   ]
  },
  {
   "cell_type": "code",
   "execution_count": 23,
   "metadata": {},
   "outputs": [
    {
     "data": {
      "text/plain": [
       "[<matplotlib.lines.Line2D at 0x7f1742b88518>]"
      ]
     },
     "execution_count": 23,
     "metadata": {},
     "output_type": "execute_result"
    },
    {
     "data": {
      "image/png": "[encoded data removed]",
      "text/plain": [
       "<Figure size 432x288 with 1 Axes>"
      ]
     },
     "metadata": {
      "needs_background": "light"
     },
     "output_type": "display_data"
    }
   ],
   "source": [
    "figE, axE = plt.subplots()\n",
    "axE.plot(E_arr, spectrum_E_arr)"
   ]
  }
 ],
 "metadata": {
  "kernelspec": {
   "display_name": "Python 3",
   "language": "python",
   "name": "python3"
  },
  "language_info": {
   "codemirror_mode": {
    "name": "ipython",
    "version": 3
   },
   "file_extension": ".py",
   "mimetype": "text/x-python",
   "name": "python",
   "nbconvert_exporter": "python",
   "pygments_lexer": "ipython3",
   "version": "3.5.2"
  }
 },
 "nbformat": 4,
 "nbformat_minor": 2
}
